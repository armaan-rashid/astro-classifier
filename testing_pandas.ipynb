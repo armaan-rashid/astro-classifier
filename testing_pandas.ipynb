{
 "cells": [
  {
   "cell_type": "code",
   "execution_count": 1,
   "metadata": {},
   "outputs": [],
   "source": [
    "import pandas as pd"
   ]
  },
  {
   "cell_type": "code",
   "execution_count": 2,
   "metadata": {},
   "outputs": [],
   "source": [
    "chart_data = pd.read_csv('train_data.csv')"
   ]
  },
  {
   "cell_type": "code",
   "execution_count": 3,
   "metadata": {},
   "outputs": [
    {
     "data": {
      "text/plain": [
       "0        Dutch physician, criminal anthropologist and w...\n",
       "1        Brazilian soccer player considered the athlete...\n",
       "2        American actress, comedienne and talk show hos...\n",
       "3        French noted film director, producer, screenwr...\n",
       "4        Jacki and her husband Gilbert, a couple from P...\n",
       "                               ...                        \n",
       "11474    Norwegian jurist and civil servant who held th...\n",
       "11475    American publishing executive who announced hi...\n",
       "11476    French adventurer, also known by his religious...\n",
       "11477    German physician, known for his research in im...\n",
       "11478    Austrian noted family, the daughter of Renata ...\n",
       "Name: bios, Length: 11479, dtype: object"
      ]
     },
     "execution_count": 3,
     "metadata": {},
     "output_type": "execute_result"
    }
   ],
   "source": [
    "chart_data['bios'].astype('str')"
   ]
  },
  {
   "cell_type": "code",
   "execution_count": null,
   "metadata": {},
   "outputs": [],
   "source": []
  }
 ],
 "metadata": {
  "kernelspec": {
   "display_name": "Python 3.10.8 64-bit ('finalproj': conda)",
   "language": "python",
   "name": "python3"
  },
  "language_info": {
   "codemirror_mode": {
    "name": "ipython",
    "version": 3
   },
   "file_extension": ".py",
   "mimetype": "text/x-python",
   "name": "python",
   "nbconvert_exporter": "python",
   "pygments_lexer": "ipython3",
   "version": "3.10.8"
  },
  "orig_nbformat": 4,
  "vscode": {
   "interpreter": {
    "hash": "76f0faf136ad659f8f1df98845c7426c88e87d9ae9cdb42d8a20a66d8cbedb03"
   }
  }
 },
 "nbformat": 4,
 "nbformat_minor": 2
}
